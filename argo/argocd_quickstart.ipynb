{
 "cells": [
  {
   "cell_type": "markdown",
   "metadata": {},
   "source": [
    "## Argo CD\n",
    "\n",
    "文档：https://argo-cd.readthedocs.io/en/stable/"
   ]
  },
  {
   "cell_type": "raw",
   "metadata": {},
   "source": [
    "kubectl create namespace argocd\n",
    "kubectl apply -n argocd -f https://raw.githubusercontent.com/argoproj/argo-cd/v1.8.6/manifests/install.yaml"
   ]
  },
  {
   "cell_type": "code",
   "execution_count": 13,
   "metadata": {},
   "outputs": [
    {
     "name": "stdout",
     "output_type": "stream",
     "text": [
      "No resources found in argocd namespace.\n"
     ]
    }
   ],
   "source": [
    "!kubectl get pod -n argocd"
   ]
  },
  {
   "cell_type": "raw",
   "metadata": {},
   "source": [
    "# Client\n",
    "wget https://github.com/argoproj/argo-cd/releases/download/v1.8.6/argocd-linux-amd64\n",
    "\n",
    "#获取初始登录密码，如下（账号：admin）\n",
    "kubectl get pods -n argocd -l app.kubernetes.io/name=argocd-server -o name | cut -d'/' -f 2"
   ]
  },
  {
   "cell_type": "code",
   "execution_count": 4,
   "metadata": {},
   "outputs": [
    {
     "name": "stdout",
     "output_type": "stream",
     "text": [
      "NAME                                  READY   STATUS    RESTARTS   AGE\n",
      "argocd-application-controller-0       1/1     Running   0          8m10s\n",
      "argocd-dex-server-6cdc789f9f-wnrhg    1/1     Running   0          8m11s\n",
      "argocd-redis-66b48966cb-vk7xp         1/1     Running   0          8m11s\n",
      "argocd-repo-server-5b4559f876-hkl9v   1/1     Running   0          8m11s\n",
      "argocd-server-5f569fd8cc-kfr67        1/1     Running   0          8m11s\n"
     ]
    }
   ],
   "source": [
    "!kubectl get pod -n argocd"
   ]
  },
  {
   "cell_type": "code",
   "execution_count": 5,
   "metadata": {},
   "outputs": [
    {
     "name": "stdout",
     "output_type": "stream",
     "text": [
      "NAME                    TYPE        CLUSTER-IP       EXTERNAL-IP   PORT(S)                      AGE\n",
      "argocd-dex-server       ClusterIP   10.106.160.167   <none>        5556/TCP,5557/TCP,5558/TCP   9m19s\n",
      "argocd-metrics          ClusterIP   10.96.96.251     <none>        8082/TCP                     9m19s\n",
      "argocd-redis            ClusterIP   10.98.158.39     <none>        6379/TCP                     9m19s\n",
      "argocd-repo-server      ClusterIP   10.111.76.15     <none>        8081/TCP,8084/TCP            9m19s\n",
      "argocd-server           NodePort    10.102.234.179   <none>        80:30800/TCP,443:32642/TCP   9m19s\n",
      "argocd-server-metrics   ClusterIP   10.104.224.57    <none>        8083/TCP                     9m19s\n"
     ]
    }
   ],
   "source": [
    "!kubectl get svc -n argocd"
   ]
  },
  {
   "cell_type": "code",
   "execution_count": null,
   "metadata": {},
   "outputs": [],
   "source": []
  }
 ],
 "metadata": {
  "kernelspec": {
   "display_name": "Python 3",
   "language": "python",
   "name": "python3"
  },
  "language_info": {
   "codemirror_mode": {
    "name": "ipython",
    "version": 3
   },
   "file_extension": ".py",
   "mimetype": "text/x-python",
   "name": "python",
   "nbconvert_exporter": "python",
   "pygments_lexer": "ipython3",
   "version": "3.6.9"
  }
 },
 "nbformat": 4,
 "nbformat_minor": 4
}
