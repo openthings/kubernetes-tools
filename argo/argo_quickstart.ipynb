{
 "cells": [
  {
   "cell_type": "markdown",
   "metadata": {},
   "source": [
    "Argo project，包含argo workflow\\argo cd\\argo events\n",
    "\n",
    "- https://github.com/argoproj/argo-workflows \n",
    "- https://argoproj.github.io/projects/argo-cd \n",
    "- https://github.com/argoproj/argo-events "
   ]
  },
  {
   "cell_type": "markdown",
   "metadata": {},
   "source": [
    "下载客户端工具"
   ]
  },
  {
   "cell_type": "raw",
   "metadata": {},
   "source": [
    "%%sh\n",
    "\n",
    "# Download the binary\n",
    "curl -LO https://github.com/argoproj/argo/releases/download/v3.0.0-rc3/argo-linux-amd64.gz\n",
    "\n",
    "# Unzip\n",
    "gunzip argo-linux-amd64.gz\n",
    "\n",
    "# Make binary executable\n",
    "chmod +x argo-linux-amd64\n",
    "\n",
    "# Move binary to path\n",
    "mv ./argo-linux-amd64 /usr/local/bin/argo\n",
    "\n",
    "# Test installation\n",
    "argo version"
   ]
  },
  {
   "cell_type": "markdown",
   "metadata": {},
   "source": [
    "Argo Controller服务安装"
   ]
  },
  {
   "cell_type": "raw",
   "metadata": {},
   "source": [
    "kubectl create namespace argo\n",
    "#kubectl apply -n argo -f https://raw.githubusercontent.com/argoproj/argo/v3.0.0-rc3/manifests/install.yaml\n",
    "\n",
    "kubectl apply -n argo -f https://raw.githubusercontent.com/argoproj/argo-workflows/master/manifests/install.yaml"
   ]
  },
  {
   "cell_type": "raw",
   "metadata": {},
   "source": [
    "开启节点部署pod：\n",
    "安装完后，使用 kubectl get pod -n argo发现始终处于pending状态，需要开启master节点的任务部署。\n",
    "\n",
    "kubectl taint nodes --all node-role.kubernetes.io/master-"
   ]
  },
  {
   "cell_type": "code",
   "execution_count": 35,
   "metadata": {},
   "outputs": [
    {
     "name": "stdout",
     "output_type": "stream",
     "text": [
      "NAME              STATUS   AGE\n",
      "argo              Active   46s\n",
      "argocd            Active   119m\n",
      "default           Active   239d\n",
      "kube-node-lease   Active   239d\n",
      "kube-public       Active   239d\n",
      "kube-system       Active   239d\n"
     ]
    }
   ],
   "source": [
    "!kubectl get ns"
   ]
  },
  {
   "cell_type": "raw",
   "metadata": {},
   "source": [
    "kubectl delete ns argo\n",
    "kubectl create ns argo"
   ]
  },
  {
   "cell_type": "code",
   "execution_count": 55,
   "metadata": {},
   "outputs": [
    {
     "name": "stdout",
     "output_type": "stream",
     "text": [
      "NAME                                   READY   STATUS    RESTARTS   AGE\n",
      "argo-server-77db675c65-g5fhn           1/1     Running   0          11h\n",
      "workflow-controller-696cf4694b-h95jc   1/1     Running   0          11h\n"
     ]
    }
   ],
   "source": [
    "!kubectl get pod -n argo"
   ]
  },
  {
   "cell_type": "code",
   "execution_count": 54,
   "metadata": {},
   "outputs": [
    {
     "name": "stdout",
     "output_type": "stream",
     "text": [
      "NAME                          TYPE        CLUSTER-IP     EXTERNAL-IP   PORT(S)          AGE   SELECTOR\n",
      "argo-server                   NodePort    10.102.164.1   <none>        2746:30746/TCP   11h   app=argo-server\n",
      "workflow-controller-metrics   ClusterIP   10.97.175.26   <none>        9090/TCP         11h   app=workflow-controller\n"
     ]
    }
   ],
   "source": [
    "!kubectl get svc -n argo -owide"
   ]
  },
  {
   "cell_type": "code",
   "execution_count": 7,
   "metadata": {},
   "outputs": [],
   "source": [
    "#!kubectl describe pod/workflow-controller-57c7c6c64f-vrx5g -n argo"
   ]
  }
 ],
 "metadata": {
  "kernelspec": {
   "display_name": "Python 3",
   "language": "python",
   "name": "python3"
  },
  "language_info": {
   "codemirror_mode": {
    "name": "ipython",
    "version": 3
   },
   "file_extension": ".py",
   "mimetype": "text/x-python",
   "name": "python",
   "nbconvert_exporter": "python",
   "pygments_lexer": "ipython3",
   "version": "3.6.9"
  }
 },
 "nbformat": 4,
 "nbformat_minor": 4
}
