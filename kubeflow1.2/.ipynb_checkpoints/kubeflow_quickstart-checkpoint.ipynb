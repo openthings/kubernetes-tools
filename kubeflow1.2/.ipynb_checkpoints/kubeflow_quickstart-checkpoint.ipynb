{
 "cells": [
  {
   "cell_type": "markdown",
   "metadata": {},
   "source": [
    "# KubeFlow\n",
    "\n",
    "- https://my.oschina.net/u/2306127/blog/4313157\n",
    "- https://www.kubeflow.org/docs/started/k8s/kfctl-k8s-istio/#provisioning-of-persistent-volumes-in-kubernetes\n",
    "- https://github.com/rancher/local-path-provisioner#deployment"
   ]
  },
  {
   "cell_type": "markdown",
   "metadata": {},
   "source": [
    "#Download\n",
    "\n",
    "wget -c https://github.com/kubeflow/kfctl/releases/download/v1.2.0/kfctl_v1.2.0-0-gbc038f9_linux.tar.gz"
   ]
  },
  {
   "cell_type": "raw",
   "metadata": {},
   "source": [
    "# Install Local path for StorageClass.\n",
    "\n",
    "kubectl apply -f https://raw.githubusercontent.com/rancher/local-path-provisioner/master/deploy/local-path-storage.yaml"
   ]
  },
  {
   "cell_type": "code",
   "execution_count": 34,
   "metadata": {},
   "outputs": [
    {
     "name": "stdout",
     "output_type": "stream",
     "text": [
      "NAME                                      READY   STATUS    RESTARTS   AGE\n",
      "local-path-provisioner-5b577f66ff-7ghgn   1/1     Running   0          14d\n"
     ]
    }
   ],
   "source": [
    "!kubectl -n local-path-storage get pod"
   ]
  },
  {
   "cell_type": "code",
   "execution_count": 6,
   "metadata": {},
   "outputs": [
    {
     "name": "stdout",
     "output_type": "stream",
     "text": [
      "NAME         PROVISIONER             RECLAIMPOLICY   VOLUMEBINDINGMODE      ALLOWVOLUMEEXPANSION   AGE\n",
      "local-path   rancher.io/local-path   Delete          WaitForFirstConsumer   false                  2m40s\n"
     ]
    }
   ],
   "source": [
    "!kubectl -n local-path-storage get storageclass"
   ]
  },
  {
   "cell_type": "markdown",
   "metadata": {},
   "source": [
    "## 设置环境"
   ]
  },
  {
   "cell_type": "raw",
   "metadata": {},
   "source": [
    "# The following command is optional. It adds the kfctl binary to your path.\n",
    "# If you don't add kfctl to your path, you must use the full path\n",
    "# each time you run kfctl.\n",
    "# Use only alphanumeric characters or - in the directory name.\n",
    "export PATH=$PATH:\"<path-to-kfctl>\""
   ]
  },
  {
   "cell_type": "raw",
   "metadata": {},
   "source": [
    "##实际如下：\n",
    "##export KF_NAME=\"kubeflow\""
   ]
  },
  {
   "cell_type": "code",
   "execution_count": null,
   "metadata": {},
   "outputs": [],
   "source": [
    "# Set the path to the base directory where you want to store one or more \n",
    "# Kubeflow deployments. For example, /opt/.\n",
    "# Then set the Kubeflow application directory for this deployment.\n",
    "export BASE_DIR=/home/supermap/openthings\n",
    "export KF_DIR=${BASE_DIR}/${KF_NAME}"
   ]
  },
  {
   "cell_type": "code",
   "execution_count": null,
   "metadata": {},
   "outputs": [],
   "source": [
    "# Set the configuration file to use when deploying Kubeflow.\n",
    "# The following configuration installs Istio by default. Comment out \n",
    "# the Istio components in the config file to skip Istio installation. \n",
    "# See https://github.com/kubeflow/kubeflow/pull/3663\n",
    "export CONFIG_URI=\"https://raw.githubusercontent.com/kubeflow/manifests/v1.2-branch/kfdef/kfctl_k8s_istio.v1.2.0.yaml\"\n",
    "\n",
    "##实际如下：\n",
    "##export CONFIG_URI=${BASE_DIR}/${KF_NAME}/kfctl_k8s_istio.v1.0.2.yaml\n"
   ]
  },
  {
   "cell_type": "raw",
   "metadata": {},
   "source": [
    "mkdir -p ${KF_DIR}\n",
    "cd ${KF_DIR}\n",
    "kfctl apply -V -f ${CONFIG_URI}"
   ]
  },
  {
   "cell_type": "code",
   "execution_count": null,
   "metadata": {},
   "outputs": [],
   "source": [
    "****************************************************************\n",
    "Notice anonymous usage reporting enabled using spartakus\n",
    "To disable it\n",
    "If you have already deployed it run the following commands:\n",
    "  cd $(pwd)\n",
    "  kubectl -n ${K8S_NAMESPACE} delete deploy -l app=spartakus\n",
    "\n",
    "For more info: https://www.kubeflow.org/docs/other-guides/usage-reporting/\n",
    "****************************************************************"
   ]
  },
  {
   "cell_type": "code",
   "execution_count": 61,
   "metadata": {},
   "outputs": [
    {
     "name": "stdout",
     "output_type": "stream",
     "text": [
      "NAME                 STATUS   AGE\n",
      "argo                 Active   19d\n",
      "argocd               Active   19d\n",
      "cert-manager         Active   3d23h\n",
      "default              Active   259d\n",
      "istio-system         Active   3d23h\n",
      "knative-serving      Active   3d23h\n",
      "kube-node-lease      Active   259d\n",
      "kube-public          Active   259d\n",
      "kube-system          Active   259d\n",
      "kubeflow             Active   3d23h\n",
      "local-path-storage   Active   18d\n"
     ]
    }
   ],
   "source": [
    "!kubectl get ns"
   ]
  },
  {
   "cell_type": "code",
   "execution_count": 25,
   "metadata": {},
   "outputs": [
    {
     "name": "stdout",
     "output_type": "stream",
     "text": [
      "namespace \"kubeflow\" deleted\n"
     ]
    }
   ],
   "source": [
    "!kubectl delete ns kubeflow"
   ]
  },
  {
   "cell_type": "code",
   "execution_count": 46,
   "metadata": {},
   "outputs": [
    {
     "name": "stdout",
     "output_type": "stream",
     "text": [
      "pod \"application-controller-stateful-set-0\" deleted\n"
     ]
    }
   ],
   "source": [
    "!kubectl delete pod/application-controller-stateful-set-0 -n kubeflow"
   ]
  },
  {
   "cell_type": "code",
   "execution_count": 62,
   "metadata": {},
   "outputs": [
    {
     "name": "stdout",
     "output_type": "stream",
     "text": [
      "service/admission-webhook-service\n",
      "service/application-controller-service\n",
      "service/argo-ui\n",
      "service/cache-server\n",
      "service/centraldashboard\n",
      "service/jupyter-web-app-service\n",
      "service/katib-controller\n",
      "service/katib-db-manager\n",
      "service/katib-mysql\n",
      "service/katib-ui\n",
      "service/kfserving-controller-manager-metrics-service\n",
      "service/kfserving-controller-manager-service\n",
      "service/kfserving-webhook-server-service\n",
      "service/kubeflow-pipelines-profile-controller\n",
      "service/metadata-db\n",
      "service/metadata-envoy-service\n",
      "service/metadata-grpc-service\n",
      "service/minio-service\n",
      "service/ml-pipeline\n",
      "service/ml-pipeline-ui\n",
      "service/ml-pipeline-visualizationserver\n",
      "service/mysql\n",
      "service/notebook-controller-service\n",
      "service/profiles-kfam\n",
      "service/pytorch-operator\n",
      "service/seldon-webhook-service\n",
      "service/tf-job-operator\n",
      "deployment.apps/admission-webhook-deployment\n",
      "deployment.apps/argo-ui\n",
      "deployment.apps/cache-deployer-deployment\n",
      "deployment.apps/cache-server\n",
      "deployment.apps/centraldashboard\n",
      "deployment.apps/jupyter-web-app-deployment\n",
      "deployment.apps/katib-controller\n",
      "deployment.apps/katib-db-manager\n",
      "deployment.apps/katib-mysql\n",
      "deployment.apps/katib-ui\n",
      "deployment.apps/kubeflow-pipelines-profile-controller\n",
      "deployment.apps/metadata-db\n",
      "deployment.apps/metadata-envoy-deployment\n",
      "deployment.apps/metadata-grpc-deployment\n",
      "deployment.apps/metadata-writer\n",
      "deployment.apps/minio\n",
      "deployment.apps/ml-pipeline\n",
      "deployment.apps/ml-pipeline-persistenceagent\n",
      "deployment.apps/ml-pipeline-scheduledworkflow\n",
      "deployment.apps/ml-pipeline-ui\n",
      "deployment.apps/ml-pipeline-viewer-crd\n",
      "deployment.apps/ml-pipeline-visualizationserver\n",
      "deployment.apps/mpi-operator\n",
      "deployment.apps/mxnet-operator\n",
      "deployment.apps/mysql\n",
      "deployment.apps/notebook-controller-deployment\n",
      "deployment.apps/profiles-deployment\n",
      "deployment.apps/pytorch-operator\n",
      "deployment.apps/seldon-controller-manager\n",
      "deployment.apps/spark-operatorsparkoperator\n",
      "deployment.apps/spartakus-volunteer\n",
      "deployment.apps/tf-job-operator\n",
      "deployment.apps/workflow-controller\n",
      "replicaset.apps/admission-webhook-deployment-5d9ccb5696\n",
      "replicaset.apps/argo-ui-684bcb587f\n",
      "replicaset.apps/cache-deployer-deployment-6667847478\n",
      "replicaset.apps/cache-server-bd9c859db\n",
      "replicaset.apps/centraldashboard-895c4c768\n",
      "replicaset.apps/jupyter-web-app-deployment-6588c6f544\n",
      "replicaset.apps/katib-controller-75c8d47f8c\n",
      "replicaset.apps/katib-db-manager-6c88c68d79\n",
      "replicaset.apps/katib-mysql-858f68f588\n",
      "replicaset.apps/katib-ui-68f59498d4\n",
      "replicaset.apps/kubeflow-pipelines-profile-controller-69c94df75b\n",
      "replicaset.apps/metadata-db-757dc9c7b5\n",
      "replicaset.apps/metadata-envoy-deployment-6ff58757f6\n",
      "replicaset.apps/metadata-grpc-deployment-76d69f69c8\n",
      "replicaset.apps/metadata-writer-6d94ffb7df\n",
      "replicaset.apps/minio-66c9cd74c9\n",
      "replicaset.apps/ml-pipeline-54989c9946\n",
      "replicaset.apps/ml-pipeline-persistenceagent-7f6bf7646\n",
      "replicaset.apps/ml-pipeline-scheduledworkflow-66db7bcf5d\n",
      "replicaset.apps/ml-pipeline-ui-756b58fb\n",
      "replicaset.apps/ml-pipeline-viewer-crd-58f59f87db\n",
      "replicaset.apps/ml-pipeline-visualizationserver-6f9ff4974\n",
      "replicaset.apps/mpi-operator-77bb5d8f4b\n",
      "replicaset.apps/mxnet-operator-68b688bb69\n",
      "replicaset.apps/mysql-7694c6b8b7\n",
      "replicaset.apps/notebook-controller-deployment-58447d4b4c\n",
      "replicaset.apps/profiles-deployment-78d4549cbc\n",
      "replicaset.apps/pytorch-operator-b79799447\n",
      "replicaset.apps/seldon-controller-manager-5fc5dfc86c\n",
      "replicaset.apps/spark-operatorsparkoperator-67c6bc65fb\n",
      "replicaset.apps/spartakus-volunteer-6ddc7b6676\n",
      "replicaset.apps/tf-job-operator-5c97f4bf7\n",
      "replicaset.apps/workflow-controller-5c7cc7976d\n",
      "statefulset.apps/admission-webhook-bootstrap-stateful-set\n",
      "statefulset.apps/application-controller-stateful-set\n",
      "statefulset.apps/kfserving-controller-manager\n",
      "statefulset.apps/metacontroller\n"
     ]
    }
   ],
   "source": [
    "!kubectl get all -n kubeflow -oname"
   ]
  },
  {
   "cell_type": "code",
   "execution_count": 41,
   "metadata": {},
   "outputs": [
    {
     "name": "stdout",
     "output_type": "stream",
     "text": [
      "Name:                   argo-ui\n",
      "Namespace:              kubeflow\n",
      "CreationTimestamp:      Thu, 18 Mar 2021 22:24:41 +0800\n",
      "Labels:                 app=argo-ui\n",
      "                        app.kubernetes.io/component=argo\n",
      "                        app.kubernetes.io/name=argo\n",
      "                        kustomize.component=argo\n",
      "Annotations:            deployment.kubernetes.io/revision: 1\n",
      "Selector:               app=argo-ui,app.kubernetes.io/component=argo,app.kubernetes.io/name=argo,kustomize.component=argo\n",
      "Replicas:               1 desired | 0 updated | 0 total | 0 available | 1 unavailable\n",
      "StrategyType:           RollingUpdate\n",
      "MinReadySeconds:        0\n",
      "RollingUpdateStrategy:  25% max unavailable, 25% max surge\n",
      "Pod Template:\n",
      "  Labels:           app=argo-ui\n",
      "                    app.kubernetes.io/component=argo\n",
      "                    app.kubernetes.io/name=argo\n",
      "                    kustomize.component=argo\n",
      "  Annotations:      sidecar.istio.io/inject: false\n",
      "  Service Account:  argo-ui\n",
      "  Containers:\n",
      "   argo-ui:\n",
      "    Image:      argoproj/argoui:v2.3.0\n",
      "    Port:       <none>\n",
      "    Host Port:  <none>\n",
      "    Readiness:  http-get http://:8001/ delay=0s timeout=1s period=10s #success=1 #failure=3\n",
      "    Environment:\n",
      "      ARGO_NAMESPACE:       (v1:metadata.namespace)\n",
      "      IN_CLUSTER:          true\n",
      "      ENABLE_WEB_CONSOLE:  false\n",
      "      BASE_HREF:           /argo/\n",
      "    Mounts:                <none>\n",
      "  Volumes:                 <none>\n",
      "Conditions:\n",
      "  Type             Status  Reason\n",
      "  ----             ------  ------\n",
      "  Available        False   MinimumReplicasUnavailable\n",
      "  ReplicaFailure   True    FailedCreate\n",
      "  Progressing      False   ProgressDeadlineExceeded\n",
      "OldReplicaSets:    <none>\n",
      "NewReplicaSet:     argo-ui-684bcb587f (0/1 replicas created)\n",
      "Events:\n",
      "  Type    Reason             Age   From                   Message\n",
      "  ----    ------             ----  ----                   -------\n",
      "  Normal  ScalingReplicaSet  10m   deployment-controller  Scaled up replica set argo-ui-684bcb587f to 1\n"
     ]
    }
   ],
   "source": [
    "!kubectl describe deployment/argo-ui -n kubeflow"
   ]
  },
  {
   "cell_type": "code",
   "execution_count": null,
   "metadata": {},
   "outputs": [],
   "source": [
    "docker pull \n",
    "docker tag gcr.io/kubeflow-images-public/kubernetes-sigs/application:1.0-beta"
   ]
  },
  {
   "cell_type": "raw",
   "metadata": {},
   "source": [
    "#https://my.oschina.net/Kanonpy/blog/3147705\n",
    "#https://github.com/shikanon/kubeflow-manifests\n",
    "\n",
    "https://blog.flyfox.top/2020/04/04/kubeflow%E5%AE%89%E8%A3%85%E6%95%99%E7%A8%8B/\n",
    "\n",
    "https://developer.aliyun.com/article/740721"
   ]
  }
 ],
 "metadata": {
  "kernelspec": {
   "display_name": "Python 3",
   "language": "python",
   "name": "python3"
  },
  "language_info": {
   "codemirror_mode": {
    "name": "ipython",
    "version": 3
   },
   "file_extension": ".py",
   "mimetype": "text/x-python",
   "name": "python",
   "nbconvert_exporter": "python",
   "pygments_lexer": "ipython3",
   "version": "3.6.9"
  }
 },
 "nbformat": 4,
 "nbformat_minor": 4
}
