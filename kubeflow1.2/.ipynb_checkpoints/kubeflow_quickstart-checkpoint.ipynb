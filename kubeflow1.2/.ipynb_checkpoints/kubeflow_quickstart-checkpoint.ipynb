{
 "cells": [
  {
   "cell_type": "markdown",
   "metadata": {},
   "source": [
    "# KubeFlow\n",
    "\n",
    "- https://my.oschina.net/u/2306127/blog/4313157\n",
    "- https://www.kubeflow.org/docs/started/k8s/kfctl-k8s-istio/#provisioning-of-persistent-volumes-in-kubernetes\n",
    "- https://github.com/rancher/local-path-provisioner#deployment"
   ]
  },
  {
   "cell_type": "markdown",
   "metadata": {},
   "source": [
    "#Download\n",
    "\n",
    "wget -c https://github.com/kubeflow/kfctl/releases/download/v1.2.0/kfctl_v1.2.0-0-gbc038f9_linux.tar.gz"
   ]
  },
  {
   "cell_type": "raw",
   "metadata": {},
   "source": [
    "# Install Local path for StorageClass.\n",
    "\n",
    "kubectl apply -f https://raw.githubusercontent.com/rancher/local-path-provisioner/master/deploy/local-path-storage.yaml"
   ]
  },
  {
   "cell_type": "code",
   "execution_count": 2,
   "metadata": {},
   "outputs": [
    {
     "name": "stdout",
     "output_type": "stream",
     "text": [
      "NAME                                      READY   STATUS    RESTARTS   AGE\n",
      "local-path-provisioner-5b577f66ff-7ghgn   1/1     Running   0          2m3s\n"
     ]
    }
   ],
   "source": [
    "!kubectl -n local-path-storage get pod"
   ]
  },
  {
   "cell_type": "code",
   "execution_count": 6,
   "metadata": {},
   "outputs": [
    {
     "name": "stdout",
     "output_type": "stream",
     "text": [
      "NAME         PROVISIONER             RECLAIMPOLICY   VOLUMEBINDINGMODE      ALLOWVOLUMEEXPANSION   AGE\n",
      "local-path   rancher.io/local-path   Delete          WaitForFirstConsumer   false                  2m40s\n"
     ]
    }
   ],
   "source": [
    "!kubectl -n local-path-storage get storageclass"
   ]
  },
  {
   "cell_type": "markdown",
   "metadata": {},
   "source": [
    "## 设置环境"
   ]
  },
  {
   "cell_type": "raw",
   "metadata": {},
   "source": [
    "# The following command is optional. It adds the kfctl binary to your path.\n",
    "# If you don't add kfctl to your path, you must use the full path\n",
    "# each time you run kfctl.\n",
    "# Use only alphanumeric characters or - in the directory name.\n",
    "export PATH=$PATH:\"<path-to-kfctl>\""
   ]
  },
  {
   "cell_type": "raw",
   "metadata": {},
   "source": [
    "##实际如下：\n",
    "##export KF_NAME=\"kubeflow\""
   ]
  },
  {
   "cell_type": "code",
   "execution_count": null,
   "metadata": {},
   "outputs": [],
   "source": [
    "# Set the path to the base directory where you want to store one or more \n",
    "# Kubeflow deployments. For example, /opt/.\n",
    "# Then set the Kubeflow application directory for this deployment.\n",
    "export BASE_DIR=/home/supermap/openthings\n",
    "export KF_DIR=${BASE_DIR}/${KF_NAME}"
   ]
  },
  {
   "cell_type": "code",
   "execution_count": null,
   "metadata": {},
   "outputs": [],
   "source": [
    "# Set the configuration file to use when deploying Kubeflow.\n",
    "# The following configuration installs Istio by default. Comment out \n",
    "# the Istio components in the config file to skip Istio installation. \n",
    "# See https://github.com/kubeflow/kubeflow/pull/3663\n",
    "export CONFIG_URI=\"https://raw.githubusercontent.com/kubeflow/manifests/v1.2-branch/kfdef/kfctl_k8s_istio.v1.2.0.yaml\"\n",
    "\n",
    "##实际如下：\n",
    "##export CONFIG_URI=${BASE_DIR}/${KF_NAME}/kfctl_k8s_istio.v1.0.2.yaml\n"
   ]
  },
  {
   "cell_type": "raw",
   "metadata": {},
   "source": [
    "mkdir -p ${KF_DIR}\n",
    "cd ${KF_DIR}\n",
    "kfctl apply -V -f ${CONFIG_URI}"
   ]
  },
  {
   "cell_type": "code",
   "execution_count": null,
   "metadata": {},
   "outputs": [],
   "source": [
    "****************************************************************\n",
    "Notice anonymous usage reporting enabled using spartakus\n",
    "To disable it\n",
    "If you have already deployed it run the following commands:\n",
    "  cd $(pwd)\n",
    "  kubectl -n ${K8S_NAMESPACE} delete deploy -l app=spartakus\n",
    "\n",
    "For more info: https://www.kubeflow.org/docs/other-guides/usage-reporting/\n",
    "****************************************************************"
   ]
  },
  {
   "cell_type": "code",
   "execution_count": 26,
   "metadata": {},
   "outputs": [
    {
     "name": "stdout",
     "output_type": "stream",
     "text": [
      "NAME                 STATUS   AGE\n",
      "argo                 Active   32h\n",
      "argocd               Active   34h\n",
      "default              Active   241d\n",
      "kube-node-lease      Active   241d\n",
      "kube-public          Active   241d\n",
      "kube-system          Active   241d\n",
      "local-path-storage   Active   20h\n"
     ]
    }
   ],
   "source": [
    "!kubectl get ns"
   ]
  },
  {
   "cell_type": "code",
   "execution_count": 25,
   "metadata": {},
   "outputs": [
    {
     "name": "stdout",
     "output_type": "stream",
     "text": [
      "namespace \"kubeflow\" deleted\n"
     ]
    }
   ],
   "source": [
    "!kubectl delete ns kubeflow"
   ]
  },
  {
   "cell_type": "code",
   "execution_count": 23,
   "metadata": {},
   "outputs": [
    {
     "name": "stdout",
     "output_type": "stream",
     "text": [
      "namespace \"cert-manager\" deleted\n"
     ]
    }
   ],
   "source": [
    "!kubectl delete ns cert-manager"
   ]
  },
  {
   "cell_type": "code",
   "execution_count": 16,
   "metadata": {},
   "outputs": [
    {
     "name": "stdout",
     "output_type": "stream",
     "text": [
      "No resources found in kubeflow namespace.\n"
     ]
    }
   ],
   "source": [
    "!kubectl get all -n kubeflow"
   ]
  },
  {
   "cell_type": "code",
   "execution_count": null,
   "metadata": {},
   "outputs": [],
   "source": []
  }
 ],
 "metadata": {
  "kernelspec": {
   "display_name": "Python 3",
   "language": "python",
   "name": "python3"
  },
  "language_info": {
   "codemirror_mode": {
    "name": "ipython",
    "version": 3
   },
   "file_extension": ".py",
   "mimetype": "text/x-python",
   "name": "python",
   "nbconvert_exporter": "python",
   "pygments_lexer": "ipython3",
   "version": "3.6.9"
  }
 },
 "nbformat": 4,
 "nbformat_minor": 4
}
