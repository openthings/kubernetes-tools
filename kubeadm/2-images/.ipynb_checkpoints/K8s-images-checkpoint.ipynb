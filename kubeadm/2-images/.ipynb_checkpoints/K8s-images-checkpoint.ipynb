{
 "cells": [
  {
   "cell_type": "code",
   "execution_count": 1,
   "metadata": {},
   "outputs": [
    {
     "name": "stdout",
     "output_type": "stream",
     "text": [
      "NAME        STATUS   ROLES                  AGE    VERSION   INTERNAL-IP       EXTERNAL-IP   OS-IMAGE             KERNEL-VERSION     CONTAINER-RUNTIME\n",
      "openbox00   Ready    control-plane,master   221d   v1.20.2   192.168.199.173   <none>        Ubuntu 20.04.2 LTS   5.4.0-52-generic   docker://19.3.13\n",
      "openbox01   Ready    control-plane,master   221d   v1.20.2   192.168.199.180   <none>        Ubuntu 20.04.2 LTS   5.4.0-65-generic   docker://19.3.8\n",
      "openbox02   Ready    control-plane,master   221d   v1.20.2   192.168.199.249   <none>        Ubuntu 20.04 LTS     5.4.0-26-generic   docker://19.3.13\n"
     ]
    }
   ],
   "source": [
    "!kubectl get node -owide"
   ]
  },
  {
   "cell_type": "code",
   "execution_count": null,
   "metadata": {},
   "outputs": [],
   "source": [
    "%%bash\n",
    "./kubernetes-pull-hub-x64.sh\n",
    "cd ..\n",
    "./k8s-images-save.sh"
   ]
  },
  {
   "cell_type": "code",
   "execution_count": 20,
   "metadata": {},
   "outputs": [
    {
     "name": "stdout",
     "output_type": "stream",
     "text": [
      "REPOSITORY                                                           TAG                 IMAGE ID            CREATED             SIZE\n",
      "k8s.gcr.io/kube-proxy                                                v1.20.4             c29e6c583067        6 days ago          118MB\n",
      "registry.cn-hangzhou.aliyuncs.com/google_containers/kube-proxy       v1.20.4             c29e6c583067        6 days ago          118MB\n",
      "k8s.gcr.io/kube-scheduler                                            v1.20.4             5f8cb769bd73        6 days ago          47.3MB\n",
      "registry.cn-hangzhou.aliyuncs.com/google_containers/kube-scheduler   v1.20.4             5f8cb769bd73        6 days ago          47.3MB\n",
      "k8s.gcr.io/kube-proxy                                                v1.20.2             43154ddb57a8        6 weeks ago         118MB\n",
      "k8s.gcr.io/kube-apiserver                                            v1.20.2             a8c2fdb8bf76        6 weeks ago         122MB\n",
      "k8s.gcr.io/kube-controller-manager                                   v1.20.2             a27166429d98        6 weeks ago         116MB\n",
      "k8s.gcr.io/kube-scheduler                                            v1.20.2             ed2c44fbdd78        6 weeks ago         46.4MB\n",
      "quay.io/coreos/flannel                                               v0.13.0             e708f4bb69e3        4 months ago        57.2MB\n",
      "k8s.gcr.io/etcd                                                      3.4.13-0            0369cf4303ff        6 months ago        253MB\n",
      "registry.cn-hangzhou.aliyuncs.com/google_containers/etcd             3.4.13-0            0369cf4303ff        6 months ago        253MB\n",
      "coredns/coredns                                                      1.7.0               bfe3a36ebd25        8 months ago        45.2MB\n",
      "k8s.gcr.io/coredns                                                   1.7.0               bfe3a36ebd25        8 months ago        45.2MB\n",
      "registry.cn-hangzhou.aliyuncs.com/google_containers/pause            3.2                 80d28bedfe5d        12 months ago       683kB\n",
      "mirrorgcrio/pause                                                    3.2                 80d28bedfe5d        12 months ago       683kB\n",
      "k8s.gcr.io/pause                                                     3.2                 80d28bedfe5d        12 months ago       683kB\n",
      "<none>                                                               <none>              b1c4f1ea5eaa        13 months ago       7.45GB\n",
      "wireguard                                                            local               36b077f6d8e0        14 months ago       500MB\n",
      "<none>                                                               <none>              b0489c4ad2ea        14 months ago       9.02GB\n",
      "<none>                                                               <none>              b483bbf60968        14 months ago       64.2MB\n",
      "<none>                                                               <none>              0e63379f2931        14 months ago       5.08GB\n",
      "<none>                                                               <none>              81cdf6a81548        14 months ago       5.84GB\n",
      "jupyter/all-spark-notebook                                           7a0c7325e470        b863d3fa025e        15 months ago       5.08GB\n",
      "cmulk/wireguard-docker                                               buster              d50d2ebd83ed        17 months ago       156MB\n",
      "ipfs/go-ipfs                                                         latest              953c7f0ef4d8        18 months ago       51.5MB\n",
      "<none>                                                               <none>              28d4697b70eb        21 months ago       15.3GB\n",
      "nginx                                                                latest              bb776ce48575        22 months ago       109MB\n",
      "openthings/zrear                                                     latest              d19633b3517e        4 years ago         47.3MB\n",
      "kasturidocker/centos_ovirt_3.5                                       latest              76a586e290bc        6 years ago         1.91GB\n"
     ]
    }
   ],
   "source": [
    "!docker images"
   ]
  },
  {
   "cell_type": "code",
   "execution_count": 21,
   "metadata": {},
   "outputs": [
    {
     "name": "stdout",
     "output_type": "stream",
     "text": [
      "===================================================================\n",
      "Save Kubernetes images to tar.\n",
      "This tool created by https://my.oschina.net/u/2306127\n",
      "Please visit https://github.com/openthings/kubernetes-tools\n",
      "###################################################################\n",
      "Kubernetes core system images.\n",
      "-------------------------------------------------------------------\n",
      "mkdir: 无法创建目录 “/home/supermap/k8s-images-1.20.4”: 文件已存在\n",
      "A1.>> k8s.gcr.io/kube-apiserver:v1.20.4\n",
      "Error response from daemon: reference does not exist\n",
      "\n",
      "A2.>> k8s.gcr.io/kube-controller-manager:v1.20.4\n",
      "Error response from daemon: reference does not exist\n",
      "\n",
      "A3.>> k8s.gcr.io/kube-scheduler:v1.20.4\n",
      "\n",
      "A4.>> k8s.gcr.io/kube-proxy:v1.20.4\n",
      "\n",
      "A5.>> k8s.gcr.io/pause:3.2\n",
      "\n",
      "A6.>> k8s.gcr.io/etcd:3.4.13-0\n",
      "\n",
      "A7.>> k8s.gcr.io/coredns:1.7.0\n",
      "\n",
      "===================================================================\n",
      "B1.>> quay.io/coreos/flannel:v0.12.0-amd64\n",
      "Error response from daemon: reference does not exist\n",
      "\n",
      "B2.>> kubernetesui/dashboard:v2.0.0-beta6\n",
      "Error response from daemon: reference does not exist\n",
      "\n",
      "B3.>> gcr.io/kubernetes-helm/tiller:v2.11.0\n",
      "Helm 3 don't need.\n",
      "\n",
      "B4.>> quay.io/kubernetes-ingress-controller/nginx-ingress-controller:0.22.0\n",
      "Error response from daemon: reference does not exist\n",
      "\n",
      "B5.>> k8s.gcr.io/defaultbackend:1.3\n",
      "Error response from daemon: reference does not exist\n",
      "\n",
      "Copy loader into /home/supermap/k8s-images-1.20.4\n",
      "cp: 无法获取'k8s-images-load.sh' 的文件状态(stat): 没有那个文件或目录\n",
      "Zip to /home/supermap/k8s-images-1.20.4.zip\n",
      "updating: k8s-images-1.20.4/ (stored 0%)\n",
      "updating: k8s-images-1.20.4/A6-k8s-etcd-3.4.13-0.tar (deflated 66%)\n",
      "updating: k8s-images-1.20.4/A5-k8s-pause-3.2.tar (deflated 59%)\n",
      "  adding: k8s-images-1.20.4/A4-k8s-kube-proxy-v1.20.4.tar (deflated 60%)\n",
      "  adding: k8s-images-1.20.4/A7-k8s-coredns-1.7.0.tar (deflated 69%)\n",
      "  adding: k8s-images-1.20.4/A3-k8s-kube-scheduler-v1.20.4.tar (deflated 71%)\n",
      "===================================================================\n",
      "Save kubernetes images Finished.\n",
      "This tool created by https://my.oschina.net/u/2306127\n",
      "Please visit https://github.com/openthings/kubernetes-tools\n",
      "===================================================================\n",
      "\n"
     ]
    }
   ],
   "source": [
    "!../k8s-images-save.sh"
   ]
  },
  {
   "cell_type": "code",
   "execution_count": null,
   "metadata": {},
   "outputs": [],
   "source": []
  }
 ],
 "metadata": {
  "kernelspec": {
   "display_name": "Python 3",
   "language": "python",
   "name": "python3"
  },
  "language_info": {
   "codemirror_mode": {
    "name": "ipython",
    "version": 3
   },
   "file_extension": ".py",
   "mimetype": "text/x-python",
   "name": "python",
   "nbconvert_exporter": "python",
   "pygments_lexer": "ipython3",
   "version": "3.6.9"
  }
 },
 "nbformat": 4,
 "nbformat_minor": 4
}
